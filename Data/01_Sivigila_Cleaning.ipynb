{
 "cells": [
  {
   "cell_type": "code",
   "execution_count": 1,
   "id": "ab880aea-1c6b-4c94-8a59-32ce58ab96ca",
   "metadata": {},
   "outputs": [],
   "source": [
    "import os\n",
    "import glob\n",
    "import pandas as pd\n",
    "from tqdm import tqdm\n",
    "import matplotlib.pyplot as plt"
   ]
  },
  {
   "cell_type": "markdown",
   "id": "df40963c-2640-41a5-a621-2f02c90d657a",
   "metadata": {},
   "source": [
    "source of files: https://portalsivigila.ins.gov.co/Paginas/Buscador.aspx"
   ]
  },
  {
   "cell_type": "markdown",
   "id": "38cf90d4-9752-4abf-8f7f-dd7cb0848e29",
   "metadata": {},
   "source": [
    "# Dengue"
   ]
  },
  {
   "cell_type": "code",
   "execution_count": 51,
   "id": "523ad73f-bcf4-4d27-a11b-66e1e822dfb3",
   "metadata": {},
   "outputs": [],
   "source": [
    "# read files\n",
    "folder_path = \"Dengue\"  # Adjust this to your folder path\n",
    "\n",
    "files_dengue = [file_path for file_path in glob.glob(os.path.join(folder_path, \"*\")) if os.path.isfile(file_path)]"
   ]
  },
  {
   "cell_type": "code",
   "execution_count": 3,
   "id": "61163b4a-173d-4ff8-a369-0df5b80c5a46",
   "metadata": {},
   "outputs": [
    {
     "name": "stderr",
     "output_type": "stream",
     "text": [
      "100%|██████████████████████████████████████████████████████████████████████████████████| 17/17 [16:39<00:00, 58.77s/it]\n"
     ]
    }
   ],
   "source": [
    "# Assuming files_dengue is a list of file paths to Excel files\n",
    "dataframes = []\n",
    "cols_to_keep = ['SEMANA', 'ANO', 'Estado_final_de_caso']\n",
    "\n",
    "for file in tqdm(files_dengue):\n",
    "    try:\n",
    "        df_temp = pd.read_excel(file)\n",
    "        df_temp = df_temp[cols_to_keep]\n",
    "        dataframes.append(df_temp)\n",
    "    except Exception as e:\n",
    "        print(f\"Error reading {file}: {e}\")"
   ]
  },
  {
   "cell_type": "code",
   "execution_count": 4,
   "id": "f93cc9fb-bc5c-4d7a-8874-1778225c7a73",
   "metadata": {},
   "outputs": [],
   "source": [
    "# Concatenate all DataFrames into a single DataFrame\n",
    "df = pd.concat(dataframes, ignore_index=True)"
   ]
  },
  {
   "cell_type": "code",
   "execution_count": 5,
   "id": "2b6a0e9e-e29b-44c5-bc93-cb2d24ec64e7",
   "metadata": {},
   "outputs": [
    {
     "name": "stdout",
     "output_type": "stream",
     "text": [
      "<class 'pandas.core.frame.DataFrame'>\n",
      "RangeIndex: 1275413 entries, 0 to 1275412\n",
      "Data columns (total 3 columns):\n",
      " #   Column                Non-Null Count    Dtype\n",
      "---  ------                --------------    -----\n",
      " 0   SEMANA                1275413 non-null  int64\n",
      " 1   ANO                   1275413 non-null  int64\n",
      " 2   Estado_final_de_caso  1275413 non-null  int64\n",
      "dtypes: int64(3)\n",
      "memory usage: 29.2 MB\n"
     ]
    }
   ],
   "source": [
    "df.info()"
   ]
  },
  {
   "cell_type": "code",
   "execution_count": 6,
   "id": "661cac7c-865c-41ae-b7c4-d51aee14bc07",
   "metadata": {},
   "outputs": [
    {
     "name": "stdout",
     "output_type": "stream",
     "text": [
      "Estado_final_de_caso\n",
      "2    598576\n",
      "3    578486\n",
      "5     98351\n",
      "Name: count, dtype: int64\n"
     ]
    }
   ],
   "source": [
    "category_counts = df['Estado_final_de_caso'].value_counts()\n",
    "\n",
    "print(category_counts)"
   ]
  },
  {
   "cell_type": "code",
   "execution_count": 7,
   "id": "be0d9c3e-e6f9-49d5-9fa0-2dcfc9cf6ec4",
   "metadata": {},
   "outputs": [],
   "source": [
    "# Drop casos \"Sospecho\"\n",
    "df = df[df['Estado_final_de_caso']!=2] "
   ]
  },
  {
   "cell_type": "code",
   "execution_count": 8,
   "id": "2174ac20-324f-497a-a4df-f28f8d5c58d3",
   "metadata": {},
   "outputs": [
    {
     "data": {
      "text/html": [
       "<div>\n",
       "<style scoped>\n",
       "    .dataframe tbody tr th:only-of-type {\n",
       "        vertical-align: middle;\n",
       "    }\n",
       "\n",
       "    .dataframe tbody tr th {\n",
       "        vertical-align: top;\n",
       "    }\n",
       "\n",
       "    .dataframe thead th {\n",
       "        text-align: right;\n",
       "    }\n",
       "</style>\n",
       "<table border=\"1\" class=\"dataframe\">\n",
       "  <thead>\n",
       "    <tr style=\"text-align: right;\">\n",
       "      <th></th>\n",
       "      <th>SEMANA</th>\n",
       "      <th>ANO</th>\n",
       "      <th>Casos</th>\n",
       "    </tr>\n",
       "  </thead>\n",
       "  <tbody>\n",
       "    <tr>\n",
       "      <th>0</th>\n",
       "      <td>1</td>\n",
       "      <td>2007</td>\n",
       "      <td>315</td>\n",
       "    </tr>\n",
       "    <tr>\n",
       "      <th>1</th>\n",
       "      <td>1</td>\n",
       "      <td>2008</td>\n",
       "      <td>357</td>\n",
       "    </tr>\n",
       "    <tr>\n",
       "      <th>2</th>\n",
       "      <td>1</td>\n",
       "      <td>2009</td>\n",
       "      <td>471</td>\n",
       "    </tr>\n",
       "    <tr>\n",
       "      <th>3</th>\n",
       "      <td>1</td>\n",
       "      <td>2010</td>\n",
       "      <td>953</td>\n",
       "    </tr>\n",
       "    <tr>\n",
       "      <th>4</th>\n",
       "      <td>1</td>\n",
       "      <td>2011</td>\n",
       "      <td>363</td>\n",
       "    </tr>\n",
       "  </tbody>\n",
       "</table>\n",
       "</div>"
      ],
      "text/plain": [
       "   SEMANA   ANO  Casos\n",
       "0       1  2007    315\n",
       "1       1  2008    357\n",
       "2       1  2009    471\n",
       "3       1  2010    953\n",
       "4       1  2011    363"
      ]
     },
     "execution_count": 8,
     "metadata": {},
     "output_type": "execute_result"
    }
   ],
   "source": [
    "df_grouped =df.groupby(['SEMANA', 'ANO'])[['Estado_final_de_caso']].count().reset_index().reset_index()\n",
    "df_grouped.drop(columns = ['index'], inplace = True)\n",
    "df_grouped.rename(columns={'Estado_final_de_caso':'Casos'}, inplace = True)\n",
    "df_grouped.head()"
   ]
  },
  {
   "cell_type": "code",
   "execution_count": 9,
   "id": "2336c5c2-9e64-438e-8a2b-87ceb240c0f8",
   "metadata": {},
   "outputs": [
    {
     "data": {
      "text/html": [
       "<div>\n",
       "<style scoped>\n",
       "    .dataframe tbody tr th:only-of-type {\n",
       "        vertical-align: middle;\n",
       "    }\n",
       "\n",
       "    .dataframe tbody tr th {\n",
       "        vertical-align: top;\n",
       "    }\n",
       "\n",
       "    .dataframe thead th {\n",
       "        text-align: right;\n",
       "    }\n",
       "</style>\n",
       "<table border=\"1\" class=\"dataframe\">\n",
       "  <thead>\n",
       "    <tr style=\"text-align: right;\">\n",
       "      <th></th>\n",
       "      <th>SEMANA</th>\n",
       "      <th>ANO</th>\n",
       "      <th>Casos</th>\n",
       "      <th>DATE</th>\n",
       "    </tr>\n",
       "  </thead>\n",
       "  <tbody>\n",
       "    <tr>\n",
       "      <th>0</th>\n",
       "      <td>1</td>\n",
       "      <td>2007</td>\n",
       "      <td>315</td>\n",
       "      <td>2007-01-01</td>\n",
       "    </tr>\n",
       "    <tr>\n",
       "      <th>17</th>\n",
       "      <td>2</td>\n",
       "      <td>2007</td>\n",
       "      <td>236</td>\n",
       "      <td>2007-01-08</td>\n",
       "    </tr>\n",
       "    <tr>\n",
       "      <th>34</th>\n",
       "      <td>3</td>\n",
       "      <td>2007</td>\n",
       "      <td>252</td>\n",
       "      <td>2007-01-15</td>\n",
       "    </tr>\n",
       "    <tr>\n",
       "      <th>51</th>\n",
       "      <td>4</td>\n",
       "      <td>2007</td>\n",
       "      <td>305</td>\n",
       "      <td>2007-01-22</td>\n",
       "    </tr>\n",
       "    <tr>\n",
       "      <th>68</th>\n",
       "      <td>5</td>\n",
       "      <td>2007</td>\n",
       "      <td>360</td>\n",
       "      <td>2007-01-29</td>\n",
       "    </tr>\n",
       "  </tbody>\n",
       "</table>\n",
       "</div>"
      ],
      "text/plain": [
       "    SEMANA   ANO  Casos       DATE\n",
       "0        1  2007    315 2007-01-01\n",
       "17       2  2007    236 2007-01-08\n",
       "34       3  2007    252 2007-01-15\n",
       "51       4  2007    305 2007-01-22\n",
       "68       5  2007    360 2007-01-29"
      ]
     },
     "execution_count": 9,
     "metadata": {},
     "output_type": "execute_result"
    }
   ],
   "source": [
    "# Create a Date column (setting the first day of the week)\n",
    "df_grouped[\"DATE\"] = pd.to_datetime(df_grouped[\"ANO\"].astype(str) + \"-W\" + df_grouped[\"SEMANA\"].astype(str) + \"-1\", format=\"%G-W%V-%u\")\n",
    "df_grouped.sort_values(by='DATE', inplace = True)\n",
    "df_grouped.head()"
   ]
  },
  {
   "cell_type": "code",
   "execution_count": 10,
   "id": "75689283-ffec-429a-ad6f-22f61e42a128",
   "metadata": {},
   "outputs": [
    {
     "data": {
      "image/png": "[encoded data removed]",
      "text/plain": [
       "<Figure size 700x400 with 1 Axes>"
      ]
     },
     "metadata": {},
     "output_type": "display_data"
    }
   ],
   "source": [
    "import matplotlib.pyplot as plt\n",
    "import seaborn as sns\n",
    "plt.figure(figsize = (7,4))\n",
    "plt.plot(df_grouped['DATE'], df_grouped['Casos'])\n",
    "plt.show()"
   ]
  },
  {
   "cell_type": "code",
   "execution_count": 11,
   "id": "c8940dbf-57dc-4287-9f37-81a62e7f93c8",
   "metadata": {},
   "outputs": [],
   "source": [
    "df_grouped.to_excel('Dengue_processed.xlsx')"
   ]
  },
  {
   "cell_type": "code",
   "execution_count": 52,
   "id": "41a89b6c-9ab1-422f-9c0d-c2baac325eab",
   "metadata": {},
   "outputs": [
    {
     "name": "stderr",
     "output_type": "stream",
     "text": [
      "100%|██████████████████████████████████████████████████████████████████████████████████| 17/17 [16:39<00:00, 58.79s/it]\n"
     ]
    }
   ],
   "source": [
    "# check for Municipio_ocurrencia\n",
    "files_not_municipio = []\n",
    "for file in tqdm(files_dengue):\n",
    "    try:\n",
    "        df_temp = pd.read_excel(file)\n",
    "        if 'Municipio_ocurrencia' not in list(df_temp.columns):\n",
    "            files_not_municipio.append(file)\n",
    "    except Exception as e:\n",
    "        print(f\"Error reading {file}: {e}\")"
   ]
  },
  {
   "cell_type": "markdown",
   "id": "da19c2fd-cd47-4a64-9976-e5c308010817",
   "metadata": {},
   "source": [
    "# ZIKA"
   ]
  },
  {
   "cell_type": "code",
   "execution_count": 12,
   "id": "2b49abd7-5a0e-4d87-91bf-74b190fe8bc3",
   "metadata": {},
   "outputs": [],
   "source": [
    "# read files\n",
    "folder_path = \"Zika\"  # Adjust this to your folder path\n",
    "\n",
    "files_zika = [file_path for file_path in glob.glob(os.path.join(folder_path, \"*\")) if os.path.isfile(file_path)]"
   ]
  },
  {
   "cell_type": "code",
   "execution_count": 13,
   "id": "2b6ed83e-535e-4f28-920c-7c044d9022b2",
   "metadata": {},
   "outputs": [
    {
     "name": "stderr",
     "output_type": "stream",
     "text": [
      "100%|████████████████████████████████████████████████████████████████████████████████████| 9/9 [01:35<00:00, 10.65s/it]\n"
     ]
    }
   ],
   "source": [
    "# Assuming files_dengue is a list of file paths to Excel files\n",
    "dataframes = []\n",
    "cols_to_keep = ['SEMANA', 'ANO', 'Estado_final_de_caso']\n",
    "\n",
    "for file in tqdm(files_zika):\n",
    "    try:\n",
    "        df_temp = pd.read_excel(file)\n",
    "        df_temp = df_temp[cols_to_keep]\n",
    "        dataframes.append(df_temp)\n",
    "    except Exception as e:\n",
    "        print(f\"Error reading {file}: {e}\")"
   ]
  },
  {
   "cell_type": "code",
   "execution_count": 20,
   "id": "fa39cd8c-b7e4-4df8-89ce-1c03e0e833d1",
   "metadata": {},
   "outputs": [],
   "source": [
    "# Concatenate all DataFrames into a single DataFrame\n",
    "df = pd.concat(dataframes, ignore_index=True)"
   ]
  },
  {
   "cell_type": "code",
   "execution_count": 21,
   "id": "ff3ba0c7-7776-4c67-ad1f-53a7c6ec6031",
   "metadata": {},
   "outputs": [
    {
     "name": "stdout",
     "output_type": "stream",
     "text": [
      "<class 'pandas.core.frame.DataFrame'>\n",
      "RangeIndex: 106803 entries, 0 to 106802\n",
      "Data columns (total 3 columns):\n",
      " #   Column                Non-Null Count   Dtype\n",
      "---  ------                --------------   -----\n",
      " 0   SEMANA                106803 non-null  int64\n",
      " 1   ANO                   106803 non-null  int64\n",
      " 2   Estado_final_de_caso  106803 non-null  int64\n",
      "dtypes: int64(3)\n",
      "memory usage: 2.4 MB\n"
     ]
    }
   ],
   "source": [
    "df.info()"
   ]
  },
  {
   "cell_type": "code",
   "execution_count": 26,
   "id": "9a517967-b68d-4876-9668-b9f1f7be2284",
   "metadata": {},
   "outputs": [
    {
     "name": "stdout",
     "output_type": "stream",
     "text": [
      "Estado_final_de_caso\n",
      "4    70391\n",
      "3     5770\n",
      "5        7\n",
      "Name: count, dtype: int64\n"
     ]
    }
   ],
   "source": [
    "category_counts = df['Estado_final_de_caso'].value_counts()\n",
    "\n",
    "print(category_counts)"
   ]
  },
  {
   "cell_type": "code",
   "execution_count": 25,
   "id": "0515260a-a32e-4fce-bb71-0dd9a2b498fc",
   "metadata": {},
   "outputs": [],
   "source": [
    "# Drop casos \"Sospecho\"\n",
    "df = df[(df['Estado_final_de_caso']!=2) & (df['Estado_final_de_caso']!=1)] "
   ]
  },
  {
   "cell_type": "code",
   "execution_count": 27,
   "id": "d7eadad5-1460-4cef-a0bd-b0eeff00f0c2",
   "metadata": {},
   "outputs": [
    {
     "data": {
      "text/html": [
       "<div>\n",
       "<style scoped>\n",
       "    .dataframe tbody tr th:only-of-type {\n",
       "        vertical-align: middle;\n",
       "    }\n",
       "\n",
       "    .dataframe tbody tr th {\n",
       "        vertical-align: top;\n",
       "    }\n",
       "\n",
       "    .dataframe thead th {\n",
       "        text-align: right;\n",
       "    }\n",
       "</style>\n",
       "<table border=\"1\" class=\"dataframe\">\n",
       "  <thead>\n",
       "    <tr style=\"text-align: right;\">\n",
       "      <th></th>\n",
       "      <th>SEMANA</th>\n",
       "      <th>ANO</th>\n",
       "      <th>Casos</th>\n",
       "    </tr>\n",
       "  </thead>\n",
       "  <tbody>\n",
       "    <tr>\n",
       "      <th>0</th>\n",
       "      <td>1</td>\n",
       "      <td>2016</td>\n",
       "      <td>2172</td>\n",
       "    </tr>\n",
       "    <tr>\n",
       "      <th>1</th>\n",
       "      <td>1</td>\n",
       "      <td>2017</td>\n",
       "      <td>57</td>\n",
       "    </tr>\n",
       "    <tr>\n",
       "      <th>2</th>\n",
       "      <td>1</td>\n",
       "      <td>2018</td>\n",
       "      <td>27</td>\n",
       "    </tr>\n",
       "    <tr>\n",
       "      <th>3</th>\n",
       "      <td>1</td>\n",
       "      <td>2019</td>\n",
       "      <td>9</td>\n",
       "    </tr>\n",
       "    <tr>\n",
       "      <th>4</th>\n",
       "      <td>1</td>\n",
       "      <td>2020</td>\n",
       "      <td>6</td>\n",
       "    </tr>\n",
       "  </tbody>\n",
       "</table>\n",
       "</div>"
      ],
      "text/plain": [
       "   SEMANA   ANO  Casos\n",
       "0       1  2016   2172\n",
       "1       1  2017     57\n",
       "2       1  2018     27\n",
       "3       1  2019      9\n",
       "4       1  2020      6"
      ]
     },
     "execution_count": 27,
     "metadata": {},
     "output_type": "execute_result"
    }
   ],
   "source": [
    "df_grouped =df.groupby(['SEMANA', 'ANO'])[['Estado_final_de_caso']].count().reset_index().reset_index()\n",
    "df_grouped.drop(columns = ['index'], inplace = True)\n",
    "df_grouped.rename(columns={'Estado_final_de_caso':'Casos'}, inplace = True)\n",
    "df_grouped.head()"
   ]
  },
  {
   "cell_type": "code",
   "execution_count": 28,
   "id": "21a7c897-d8a5-47ca-a304-b7d5f0ad6f07",
   "metadata": {},
   "outputs": [
    {
     "data": {
      "text/html": [
       "<div>\n",
       "<style scoped>\n",
       "    .dataframe tbody tr th:only-of-type {\n",
       "        vertical-align: middle;\n",
       "    }\n",
       "\n",
       "    .dataframe tbody tr th {\n",
       "        vertical-align: top;\n",
       "    }\n",
       "\n",
       "    .dataframe thead th {\n",
       "        text-align: right;\n",
       "    }\n",
       "</style>\n",
       "<table border=\"1\" class=\"dataframe\">\n",
       "  <thead>\n",
       "    <tr style=\"text-align: right;\">\n",
       "      <th></th>\n",
       "      <th>SEMANA</th>\n",
       "      <th>ANO</th>\n",
       "      <th>Casos</th>\n",
       "      <th>DATE</th>\n",
       "    </tr>\n",
       "  </thead>\n",
       "  <tbody>\n",
       "    <tr>\n",
       "      <th>191</th>\n",
       "      <td>32</td>\n",
       "      <td>2015</td>\n",
       "      <td>26</td>\n",
       "      <td>2015-08-03</td>\n",
       "    </tr>\n",
       "    <tr>\n",
       "      <th>199</th>\n",
       "      <td>33</td>\n",
       "      <td>2015</td>\n",
       "      <td>23</td>\n",
       "      <td>2015-08-10</td>\n",
       "    </tr>\n",
       "    <tr>\n",
       "      <th>206</th>\n",
       "      <td>34</td>\n",
       "      <td>2015</td>\n",
       "      <td>14</td>\n",
       "      <td>2015-08-17</td>\n",
       "    </tr>\n",
       "    <tr>\n",
       "      <th>214</th>\n",
       "      <td>35</td>\n",
       "      <td>2015</td>\n",
       "      <td>6</td>\n",
       "      <td>2015-08-24</td>\n",
       "    </tr>\n",
       "    <tr>\n",
       "      <th>221</th>\n",
       "      <td>36</td>\n",
       "      <td>2015</td>\n",
       "      <td>9</td>\n",
       "      <td>2015-08-31</td>\n",
       "    </tr>\n",
       "  </tbody>\n",
       "</table>\n",
       "</div>"
      ],
      "text/plain": [
       "     SEMANA   ANO  Casos       DATE\n",
       "191      32  2015     26 2015-08-03\n",
       "199      33  2015     23 2015-08-10\n",
       "206      34  2015     14 2015-08-17\n",
       "214      35  2015      6 2015-08-24\n",
       "221      36  2015      9 2015-08-31"
      ]
     },
     "execution_count": 28,
     "metadata": {},
     "output_type": "execute_result"
    }
   ],
   "source": [
    "# Create a Date column (setting the first day of the week)\n",
    "df_grouped[\"DATE\"] = pd.to_datetime(df_grouped[\"ANO\"].astype(str) + \"-W\" + df_grouped[\"SEMANA\"].astype(str) + \"-1\", format=\"%G-W%V-%u\")\n",
    "df_grouped.sort_values(by='DATE', inplace = True)\n",
    "df_grouped.head()"
   ]
  },
  {
   "cell_type": "code",
   "execution_count": 29,
   "id": "c56f3c36-6acb-4242-bd66-73ecde3793a2",
   "metadata": {},
   "outputs": [
    {
     "data": {
      "image/png": "[encoded data removed]",
      "text/plain": [
       "<Figure size 700x400 with 1 Axes>"
      ]
     },
     "metadata": {},
     "output_type": "display_data"
    }
   ],
   "source": [
    "plt.figure(figsize = (7,4))\n",
    "plt.plot(df_grouped['DATE'], df_grouped['Casos'])\n",
    "plt.show()"
   ]
  },
  {
   "cell_type": "code",
   "execution_count": 30,
   "id": "e1f47c9c-41a0-4574-8842-f24c616137a1",
   "metadata": {},
   "outputs": [],
   "source": [
    "df_grouped.to_excel('Zika_processed.xlsx')"
   ]
  },
  {
   "cell_type": "code",
   "execution_count": 54,
   "id": "36549ea8-10d4-4aef-8074-08a32605de26",
   "metadata": {},
   "outputs": [
    {
     "name": "stderr",
     "output_type": "stream",
     "text": [
      "100%|████████████████████████████████████████████████████████████████████████████████████| 9/9 [01:33<00:00, 10.43s/it]\n"
     ]
    }
   ],
   "source": [
    "# check for Municipio_ocurrencia\n",
    "files_not_municipio = []\n",
    "for file in tqdm(files_zika):\n",
    "    try:\n",
    "        df_temp = pd.read_excel(file)\n",
    "        if 'Municipio_ocurrencia' not in list(df_temp.columns):\n",
    "            files_not_municipio.append(file)\n",
    "    except Exception as e:\n",
    "        print(f\"Error reading {file}: {e}\")"
   ]
  },
  {
   "cell_type": "code",
   "execution_count": 55,
   "id": "1c022f16-c3a1-4126-bdf9-cfee2f0060f8",
   "metadata": {},
   "outputs": [
    {
     "data": {
      "text/plain": [
       "[]"
      ]
     },
     "execution_count": 55,
     "metadata": {},
     "output_type": "execute_result"
    }
   ],
   "source": [
    "files_not_municipio"
   ]
  },
  {
   "cell_type": "markdown",
   "id": "ac32c12e-e949-41b1-94a9-cb7f56770a18",
   "metadata": {},
   "source": [
    "# Chicunguya"
   ]
  },
  {
   "cell_type": "code",
   "execution_count": 41,
   "id": "99c79308-7c0d-437f-83be-a6840457725e",
   "metadata": {},
   "outputs": [],
   "source": [
    "# Chicunguya\n",
    "\n",
    "# read files\n",
    "folder_path = \"Chicunguya\"  # Adjust this to your folder path\n",
    "\n",
    "files_chic = [file_path for file_path in glob.glob(os.path.join(folder_path, \"*\")) if os.path.isfile(file_path)]"
   ]
  },
  {
   "cell_type": "code",
   "execution_count": 42,
   "id": "ef7dacb4-ef39-41da-8e67-63d2d9427621",
   "metadata": {},
   "outputs": [
    {
     "name": "stderr",
     "output_type": "stream",
     "text": [
      "100%|██████████████████████████████████████████████████████████████████████████████████| 10/10 [00:12<00:00,  1.25s/it]\n"
     ]
    }
   ],
   "source": [
    "# Assuming files_dengue is a list of file paths to Excel files\n",
    "dataframes = []\n",
    "cols_to_keep = ['SEMANA', 'ANO', 'Estado_final_de_caso']\n",
    "\n",
    "for file in tqdm(files_chic):\n",
    "    try:\n",
    "        df_temp = pd.read_excel(file)\n",
    "        df_temp = df_temp[cols_to_keep]\n",
    "        dataframes.append(df_temp)\n",
    "    except Exception as e:\n",
    "        print(f\"Error reading {file}: {e}\")"
   ]
  },
  {
   "cell_type": "code",
   "execution_count": 43,
   "id": "7c8daf2f-9ae6-4858-b3dc-7c2aca0530e1",
   "metadata": {},
   "outputs": [],
   "source": [
    "# Concatenate all DataFrames into a single DataFrame\n",
    "df = pd.concat(dataframes, ignore_index=True)"
   ]
  },
  {
   "cell_type": "code",
   "execution_count": 44,
   "id": "7b4d68d9-3c06-4e89-95c6-7d6022e5f213",
   "metadata": {},
   "outputs": [
    {
     "name": "stdout",
     "output_type": "stream",
     "text": [
      "<class 'pandas.core.frame.DataFrame'>\n",
      "RangeIndex: 79099 entries, 0 to 79098\n",
      "Data columns (total 3 columns):\n",
      " #   Column                Non-Null Count  Dtype\n",
      "---  ------                --------------  -----\n",
      " 0   SEMANA                79099 non-null  int64\n",
      " 1   ANO                   79099 non-null  int64\n",
      " 2   Estado_final_de_caso  79099 non-null  int64\n",
      "dtypes: int64(3)\n",
      "memory usage: 1.8 MB\n"
     ]
    }
   ],
   "source": [
    "df.info()"
   ]
  },
  {
   "cell_type": "code",
   "execution_count": 45,
   "id": "e9d23728-9045-46d8-b1df-f5bbff642147",
   "metadata": {},
   "outputs": [
    {
     "name": "stdout",
     "output_type": "stream",
     "text": [
      "Estado_final_de_caso\n",
      "4    72882\n",
      "3     5261\n",
      "1      956\n",
      "Name: count, dtype: int64\n"
     ]
    }
   ],
   "source": [
    "category_counts = df['Estado_final_de_caso'].value_counts()\n",
    "\n",
    "print(category_counts)"
   ]
  },
  {
   "cell_type": "code",
   "execution_count": 46,
   "id": "34267f06-049d-4013-84b0-bc2e264f415d",
   "metadata": {},
   "outputs": [],
   "source": [
    "# Drop casos \"Sospecho\"\n",
    "df = df[(df['Estado_final_de_caso']!=2) & (df['Estado_final_de_caso']!=1)] "
   ]
  },
  {
   "cell_type": "code",
   "execution_count": 47,
   "id": "42f62e65-7133-418f-9fc9-f06ad7c8c083",
   "metadata": {},
   "outputs": [
    {
     "data": {
      "text/html": [
       "<div>\n",
       "<style scoped>\n",
       "    .dataframe tbody tr th:only-of-type {\n",
       "        vertical-align: middle;\n",
       "    }\n",
       "\n",
       "    .dataframe tbody tr th {\n",
       "        vertical-align: top;\n",
       "    }\n",
       "\n",
       "    .dataframe thead th {\n",
       "        text-align: right;\n",
       "    }\n",
       "</style>\n",
       "<table border=\"1\" class=\"dataframe\">\n",
       "  <thead>\n",
       "    <tr style=\"text-align: right;\">\n",
       "      <th></th>\n",
       "      <th>SEMANA</th>\n",
       "      <th>ANO</th>\n",
       "      <th>Casos</th>\n",
       "    </tr>\n",
       "  </thead>\n",
       "  <tbody>\n",
       "    <tr>\n",
       "      <th>0</th>\n",
       "      <td>1</td>\n",
       "      <td>2015</td>\n",
       "      <td>2164</td>\n",
       "    </tr>\n",
       "    <tr>\n",
       "      <th>1</th>\n",
       "      <td>1</td>\n",
       "      <td>2016</td>\n",
       "      <td>667</td>\n",
       "    </tr>\n",
       "    <tr>\n",
       "      <th>2</th>\n",
       "      <td>1</td>\n",
       "      <td>2017</td>\n",
       "      <td>46</td>\n",
       "    </tr>\n",
       "    <tr>\n",
       "      <th>3</th>\n",
       "      <td>1</td>\n",
       "      <td>2018</td>\n",
       "      <td>16</td>\n",
       "    </tr>\n",
       "    <tr>\n",
       "      <th>4</th>\n",
       "      <td>1</td>\n",
       "      <td>2019</td>\n",
       "      <td>13</td>\n",
       "    </tr>\n",
       "  </tbody>\n",
       "</table>\n",
       "</div>"
      ],
      "text/plain": [
       "   SEMANA   ANO  Casos\n",
       "0       1  2015   2164\n",
       "1       1  2016    667\n",
       "2       1  2017     46\n",
       "3       1  2018     16\n",
       "4       1  2019     13"
      ]
     },
     "execution_count": 47,
     "metadata": {},
     "output_type": "execute_result"
    }
   ],
   "source": [
    "df_grouped =df.groupby(['SEMANA', 'ANO'])[['Estado_final_de_caso']].count().reset_index().reset_index()\n",
    "df_grouped.drop(columns = ['index'], inplace = True)\n",
    "df_grouped.rename(columns={'Estado_final_de_caso':'Casos'}, inplace = True)\n",
    "df_grouped.head()"
   ]
  },
  {
   "cell_type": "code",
   "execution_count": 48,
   "id": "3b34e429-8698-40fe-a85e-9f26a47e581b",
   "metadata": {},
   "outputs": [
    {
     "data": {
      "text/html": [
       "<div>\n",
       "<style scoped>\n",
       "    .dataframe tbody tr th:only-of-type {\n",
       "        vertical-align: middle;\n",
       "    }\n",
       "\n",
       "    .dataframe tbody tr th {\n",
       "        vertical-align: top;\n",
       "    }\n",
       "\n",
       "    .dataframe thead th {\n",
       "        text-align: right;\n",
       "    }\n",
       "</style>\n",
       "<table border=\"1\" class=\"dataframe\">\n",
       "  <thead>\n",
       "    <tr style=\"text-align: right;\">\n",
       "      <th></th>\n",
       "      <th>SEMANA</th>\n",
       "      <th>ANO</th>\n",
       "      <th>Casos</th>\n",
       "      <th>DATE</th>\n",
       "    </tr>\n",
       "  </thead>\n",
       "  <tbody>\n",
       "    <tr>\n",
       "      <th>171</th>\n",
       "      <td>23</td>\n",
       "      <td>2014</td>\n",
       "      <td>13</td>\n",
       "      <td>2014-06-02</td>\n",
       "    </tr>\n",
       "    <tr>\n",
       "      <th>181</th>\n",
       "      <td>24</td>\n",
       "      <td>2014</td>\n",
       "      <td>10</td>\n",
       "      <td>2014-06-09</td>\n",
       "    </tr>\n",
       "    <tr>\n",
       "      <th>191</th>\n",
       "      <td>25</td>\n",
       "      <td>2014</td>\n",
       "      <td>8</td>\n",
       "      <td>2014-06-16</td>\n",
       "    </tr>\n",
       "    <tr>\n",
       "      <th>201</th>\n",
       "      <td>26</td>\n",
       "      <td>2014</td>\n",
       "      <td>6</td>\n",
       "      <td>2014-06-23</td>\n",
       "    </tr>\n",
       "    <tr>\n",
       "      <th>210</th>\n",
       "      <td>27</td>\n",
       "      <td>2014</td>\n",
       "      <td>8</td>\n",
       "      <td>2014-06-30</td>\n",
       "    </tr>\n",
       "  </tbody>\n",
       "</table>\n",
       "</div>"
      ],
      "text/plain": [
       "     SEMANA   ANO  Casos       DATE\n",
       "171      23  2014     13 2014-06-02\n",
       "181      24  2014     10 2014-06-09\n",
       "191      25  2014      8 2014-06-16\n",
       "201      26  2014      6 2014-06-23\n",
       "210      27  2014      8 2014-06-30"
      ]
     },
     "execution_count": 48,
     "metadata": {},
     "output_type": "execute_result"
    }
   ],
   "source": [
    "# Create a Date column (setting the first day of the week)\n",
    "df_grouped[\"DATE\"] = pd.to_datetime(df_grouped[\"ANO\"].astype(str) + \"-W\" + df_grouped[\"SEMANA\"].astype(str) + \"-1\", format=\"%G-W%V-%u\")\n",
    "df_grouped.sort_values(by='DATE', inplace = True)\n",
    "df_grouped.head()"
   ]
  },
  {
   "cell_type": "code",
   "execution_count": 49,
   "id": "ee9da680-9686-4fe4-b0c0-a4a76707d57f",
   "metadata": {},
   "outputs": [
    {
     "data": {
      "image/png": "[encoded data removed]",
      "text/plain": [
       "<Figure size 700x400 with 1 Axes>"
      ]
     },
     "metadata": {},
     "output_type": "display_data"
    }
   ],
   "source": [
    "plt.figure(figsize = (7,4))\n",
    "plt.plot(df_grouped['DATE'], df_grouped['Casos'])\n",
    "plt.show()"
   ]
  },
  {
   "cell_type": "code",
   "execution_count": 50,
   "id": "f65bb083-7e46-455d-babd-b51b5898e3c3",
   "metadata": {},
   "outputs": [],
   "source": [
    "df_grouped.to_excel('Chicunguya_processed.xlsx')"
   ]
  },
  {
   "cell_type": "code",
   "execution_count": 56,
   "id": "32b34941-e0e7-490e-888f-360dc73b708a",
   "metadata": {},
   "outputs": [
    {
     "name": "stderr",
     "output_type": "stream",
     "text": [
      "100%|██████████████████████████████████████████████████████████████████████████████████| 10/10 [00:13<00:00,  1.38s/it]\n"
     ]
    }
   ],
   "source": [
    "# check for Municipio_ocurrencia\n",
    "files_not_municipio = []\n",
    "for file in tqdm(files_chic):\n",
    "    try:\n",
    "        df_temp = pd.read_excel(file)\n",
    "        if 'Municipio_ocurrencia' not in list(df_temp.columns):\n",
    "            files_not_municipio.append(file)\n",
    "    except Exception as e:\n",
    "        print(f\"Error reading {file}: {e}\")"
   ]
  },
  {
   "cell_type": "code",
   "execution_count": 57,
   "id": "4a1a63e9-5d94-4ba7-b3ba-c1b9a07bd7b5",
   "metadata": {},
   "outputs": [
    {
     "data": {
      "text/plain": [
       "[]"
      ]
     },
     "execution_count": 57,
     "metadata": {},
     "output_type": "execute_result"
    }
   ],
   "source": [
    "files_not_municipio"
   ]
  },
  {
   "cell_type": "markdown",
   "id": "86a9c592-85bc-4d00-be23-a3ab66c8cd2f",
   "metadata": {},
   "source": [
    "# Varicela"
   ]
  },
  {
   "cell_type": "code",
   "execution_count": 2,
   "id": "bdef613b-4353-4266-b160-951ea544eac2",
   "metadata": {},
   "outputs": [
    {
     "data": {
      "text/plain": [
       "['Varicela\\\\Datos_2007_831.xls',\n",
       " 'Varicela\\\\Datos_2008_831.xls',\n",
       " 'Varicela\\\\Datos_2009_831.xlsx',\n",
       " 'Varicela\\\\Datos_2010_831.xlsx',\n",
       " 'Varicela\\\\Datos_2011_831.xlsx',\n",
       " 'Varicela\\\\Datos_2012_831.xlsx',\n",
       " 'Varicela\\\\Datos_2013_831.xlsx',\n",
       " 'Varicela\\\\Datos_2014_831.xlsx',\n",
       " 'Varicela\\\\Datos_2015_831.xlsx',\n",
       " 'Varicela\\\\Datos_2016_831.xlsx',\n",
       " 'Varicela\\\\Datos_2017_831.xlsx',\n",
       " 'Varicela\\\\Datos_2018_831.xlsx',\n",
       " 'Varicela\\\\Datos_2019_831.xlsx',\n",
       " 'Varicela\\\\Datos_2020_831.xls',\n",
       " 'Varicela\\\\Datos_2021_831.xls',\n",
       " 'Varicela\\\\Datos_2022_831.xls',\n",
       " 'Varicela\\\\Datos_2023_831.xlsx']"
      ]
     },
     "execution_count": 2,
     "metadata": {},
     "output_type": "execute_result"
    }
   ],
   "source": [
    "# Varicela\n",
    "# read files\n",
    "folder_path = \"Varicela\"  # Adjust this to your folder path\n",
    "\n",
    "files_var = [file_path for file_path in glob.glob(os.path.join(folder_path, \"*\")) if os.path.isfile(file_path)]\n",
    "files_var"
   ]
  },
  {
   "cell_type": "code",
   "execution_count": 3,
   "id": "1615c5e1-87bd-4338-9cf2-61d7ccf0c8ff",
   "metadata": {},
   "outputs": [
    {
     "name": "stderr",
     "output_type": "stream",
     "text": [
      "100%|██████████████████████████████████████████████████████████████████████████████████| 17/17 [16:47<00:00, 59.27s/it]\n"
     ]
    }
   ],
   "source": [
    "dataframes = []\n",
    "cols_to_keep = ['SEMANA', 'ANO', 'Estado_final_de_caso']\n",
    "\n",
    "for file in tqdm(files_var):\n",
    "    try:\n",
    "        df_temp = pd.read_excel(file)\n",
    "        df_temp = df_temp[cols_to_keep]\n",
    "        dataframes.append(df_temp)\n",
    "    except Exception as e:\n",
    "        print(f\"Error reading {file}: {e}\")"
   ]
  },
  {
   "cell_type": "code",
   "execution_count": 4,
   "id": "f7966e30-97c3-44c1-910f-69e257bce748",
   "metadata": {},
   "outputs": [],
   "source": [
    "# Concatenate all DataFrames into a single DataFrame\n",
    "df = pd.concat(dataframes, ignore_index=True)"
   ]
  },
  {
   "cell_type": "code",
   "execution_count": 5,
   "id": "c0036423-a220-4a97-ae05-19b601e6e58a",
   "metadata": {},
   "outputs": [
    {
     "name": "stdout",
     "output_type": "stream",
     "text": [
      "<class 'pandas.core.frame.DataFrame'>\n",
      "RangeIndex: 1202828 entries, 0 to 1202827\n",
      "Data columns (total 3 columns):\n",
      " #   Column                Non-Null Count    Dtype\n",
      "---  ------                --------------    -----\n",
      " 0   SEMANA                1202828 non-null  int64\n",
      " 1   ANO                   1202828 non-null  int64\n",
      " 2   Estado_final_de_caso  1202828 non-null  int64\n",
      "dtypes: int64(3)\n",
      "memory usage: 27.5 MB\n"
     ]
    }
   ],
   "source": [
    "df.info()"
   ]
  },
  {
   "cell_type": "code",
   "execution_count": 6,
   "id": "ced678ef-0206-4c07-be78-08c245218693",
   "metadata": {},
   "outputs": [
    {
     "name": "stdout",
     "output_type": "stream",
     "text": [
      "Estado_final_de_caso\n",
      "4    1188407\n",
      "5      14421\n",
      "Name: count, dtype: int64\n"
     ]
    }
   ],
   "source": [
    "category_counts = df['Estado_final_de_caso'].value_counts()\n",
    "\n",
    "print(category_counts)"
   ]
  },
  {
   "cell_type": "code",
   "execution_count": 7,
   "id": "d9f4c619-38f8-42c7-87fa-117c65e167e5",
   "metadata": {},
   "outputs": [],
   "source": [
    "# Drop casos \"Sospecho\"\n",
    "df = df[(df['Estado_final_de_caso']!=2) & (df['Estado_final_de_caso']!=1)] "
   ]
  },
  {
   "cell_type": "code",
   "execution_count": 8,
   "id": "821b228e-6df6-43fe-9314-77f432880d6e",
   "metadata": {},
   "outputs": [
    {
     "data": {
      "text/html": [
       "<div>\n",
       "<style scoped>\n",
       "    .dataframe tbody tr th:only-of-type {\n",
       "        vertical-align: middle;\n",
       "    }\n",
       "\n",
       "    .dataframe tbody tr th {\n",
       "        vertical-align: top;\n",
       "    }\n",
       "\n",
       "    .dataframe thead th {\n",
       "        text-align: right;\n",
       "    }\n",
       "</style>\n",
       "<table border=\"1\" class=\"dataframe\">\n",
       "  <thead>\n",
       "    <tr style=\"text-align: right;\">\n",
       "      <th></th>\n",
       "      <th>SEMANA</th>\n",
       "      <th>ANO</th>\n",
       "      <th>Casos</th>\n",
       "    </tr>\n",
       "  </thead>\n",
       "  <tbody>\n",
       "    <tr>\n",
       "      <th>0</th>\n",
       "      <td>1</td>\n",
       "      <td>2007</td>\n",
       "      <td>250</td>\n",
       "    </tr>\n",
       "    <tr>\n",
       "      <th>1</th>\n",
       "      <td>1</td>\n",
       "      <td>2008</td>\n",
       "      <td>515</td>\n",
       "    </tr>\n",
       "    <tr>\n",
       "      <th>2</th>\n",
       "      <td>1</td>\n",
       "      <td>2009</td>\n",
       "      <td>1499</td>\n",
       "    </tr>\n",
       "    <tr>\n",
       "      <th>3</th>\n",
       "      <td>1</td>\n",
       "      <td>2010</td>\n",
       "      <td>1031</td>\n",
       "    </tr>\n",
       "    <tr>\n",
       "      <th>4</th>\n",
       "      <td>1</td>\n",
       "      <td>2011</td>\n",
       "      <td>1666</td>\n",
       "    </tr>\n",
       "  </tbody>\n",
       "</table>\n",
       "</div>"
      ],
      "text/plain": [
       "   SEMANA   ANO  Casos\n",
       "0       1  2007    250\n",
       "1       1  2008    515\n",
       "2       1  2009   1499\n",
       "3       1  2010   1031\n",
       "4       1  2011   1666"
      ]
     },
     "execution_count": 8,
     "metadata": {},
     "output_type": "execute_result"
    }
   ],
   "source": [
    "df_grouped =df.groupby(['SEMANA', 'ANO'])[['Estado_final_de_caso']].count().reset_index().reset_index()\n",
    "df_grouped.drop(columns = ['index'], inplace = True)\n",
    "df_grouped.rename(columns={'Estado_final_de_caso':'Casos'}, inplace = True)\n",
    "df_grouped.head()"
   ]
  },
  {
   "cell_type": "code",
   "execution_count": 9,
   "id": "35e705e2-4bd9-4ae6-baa9-494db988b940",
   "metadata": {},
   "outputs": [
    {
     "data": {
      "text/html": [
       "<div>\n",
       "<style scoped>\n",
       "    .dataframe tbody tr th:only-of-type {\n",
       "        vertical-align: middle;\n",
       "    }\n",
       "\n",
       "    .dataframe tbody tr th {\n",
       "        vertical-align: top;\n",
       "    }\n",
       "\n",
       "    .dataframe thead th {\n",
       "        text-align: right;\n",
       "    }\n",
       "</style>\n",
       "<table border=\"1\" class=\"dataframe\">\n",
       "  <thead>\n",
       "    <tr style=\"text-align: right;\">\n",
       "      <th></th>\n",
       "      <th>SEMANA</th>\n",
       "      <th>ANO</th>\n",
       "      <th>Casos</th>\n",
       "      <th>DATE</th>\n",
       "    </tr>\n",
       "  </thead>\n",
       "  <tbody>\n",
       "    <tr>\n",
       "      <th>0</th>\n",
       "      <td>1</td>\n",
       "      <td>2007</td>\n",
       "      <td>250</td>\n",
       "      <td>2007-01-01</td>\n",
       "    </tr>\n",
       "    <tr>\n",
       "      <th>17</th>\n",
       "      <td>2</td>\n",
       "      <td>2007</td>\n",
       "      <td>307</td>\n",
       "      <td>2007-01-08</td>\n",
       "    </tr>\n",
       "    <tr>\n",
       "      <th>34</th>\n",
       "      <td>3</td>\n",
       "      <td>2007</td>\n",
       "      <td>301</td>\n",
       "      <td>2007-01-15</td>\n",
       "    </tr>\n",
       "    <tr>\n",
       "      <th>51</th>\n",
       "      <td>4</td>\n",
       "      <td>2007</td>\n",
       "      <td>266</td>\n",
       "      <td>2007-01-22</td>\n",
       "    </tr>\n",
       "    <tr>\n",
       "      <th>68</th>\n",
       "      <td>5</td>\n",
       "      <td>2007</td>\n",
       "      <td>357</td>\n",
       "      <td>2007-01-29</td>\n",
       "    </tr>\n",
       "  </tbody>\n",
       "</table>\n",
       "</div>"
      ],
      "text/plain": [
       "    SEMANA   ANO  Casos       DATE\n",
       "0        1  2007    250 2007-01-01\n",
       "17       2  2007    307 2007-01-08\n",
       "34       3  2007    301 2007-01-15\n",
       "51       4  2007    266 2007-01-22\n",
       "68       5  2007    357 2007-01-29"
      ]
     },
     "execution_count": 9,
     "metadata": {},
     "output_type": "execute_result"
    }
   ],
   "source": [
    "# Create a Date column (setting the first day of the week)\n",
    "df_grouped[\"DATE\"] = pd.to_datetime(df_grouped[\"ANO\"].astype(str) + \"-W\" + df_grouped[\"SEMANA\"].astype(str) + \"-1\", format=\"%G-W%V-%u\")\n",
    "df_grouped.sort_values(by='DATE', inplace = True)\n",
    "df_grouped.head()"
   ]
  },
  {
   "cell_type": "code",
   "execution_count": 12,
   "id": "3b43cef9-0d3c-4bbb-97d8-330f656912ca",
   "metadata": {},
   "outputs": [
    {
     "data": {
      "image/png": "[encoded data removed]",
      "text/plain": [
       "<Figure size 700x400 with 1 Axes>"
      ]
     },
     "metadata": {},
     "output_type": "display_data"
    }
   ],
   "source": [
    "plt.figure(figsize = (7,4))\n",
    "plt.plot(df_grouped['DATE'], df_grouped['Casos'])\n",
    "plt.show()"
   ]
  },
  {
   "cell_type": "code",
   "execution_count": 13,
   "id": "da7fc509-e6cd-4901-b730-d6bacb18ec49",
   "metadata": {},
   "outputs": [],
   "source": [
    "df_grouped.to_excel('Varicela_processed.xlsx', index = False)"
   ]
  }
 ],
 "metadata": {
  "kernelspec": {
   "display_name": "Python 3 (ipykernel)",
   "language": "python",
   "name": "python3"
  },
  "language_info": {
   "codemirror_mode": {
    "name": "ipython",
    "version": 3
   },
   "file_extension": ".py",
   "mimetype": "text/x-python",
   "name": "python",
   "nbconvert_exporter": "python",
   "pygments_lexer": "ipython3",
   "version": "3.12.9"
  }
 },
 "nbformat": 4,
 "nbformat_minor": 5
}
