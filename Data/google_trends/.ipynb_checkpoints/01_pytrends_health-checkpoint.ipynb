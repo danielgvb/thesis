{
 "cells": [
  {
   "cell_type": "code",
   "execution_count": 1,
   "id": "7ad34def-cc3a-4e41-a077-8d5b14cd947f",
   "metadata": {},
   "outputs": [],
   "source": [
    "#import libraries\n",
    "from pytrends.request import TrendReq\n",
    "import pandas as pd\n",
    "from tqdm import tqdm\n",
    "import datetime as dt\n",
    "import time"
   ]
  },
  {
   "cell_type": "code",
   "execution_count": 15,
   "id": "868905c7-db41-4687-9d72-a50055cca5e6",
   "metadata": {},
   "outputs": [
    {
     "data": {
      "text/plain": [
       "[{'mid': '/g/11dd_vcl3r', 'title': 'The Good Doctor', 'type': 'Drama series'},\n",
       " {'mid': '/m/02906',\n",
       "  'title': 'Doctor Who',\n",
       "  'type': 'British television series'},\n",
       " {'mid': '/g/11fd6dj73b', 'title': 'Doctor Sleep', 'type': '2019 film'},\n",
       " {'mid': '/m/05t4q', 'title': 'Physician', 'type': 'Profession'},\n",
       " {'mid': '/g/113p88v54', 'title': 'Rug Doctor', 'type': 'Topic'}]"
      ]
     },
     "execution_count": 15,
     "metadata": {},
     "output_type": "execute_result"
    }
   ],
   "source": [
    "pytrend = TrendReq(hl='en-GB', tz=360)\n",
    "pytrend.suggestions('Doctor')"
   ]
  },
  {
   "cell_type": "code",
   "execution_count": null,
   "id": "58234408-482e-4338-82f1-4a7649371f0c",
   "metadata": {},
   "outputs": [],
   "source": [
    "cod_dict = {'/m/0g9pc':'Virus',\n",
    "            '/m/01b_06':'Symptom',\n",
    "            '/m/0kt51':'Health', \n",
    "            '/m/0hpnr':'Hospital',\n",
    "            '/m/05t4q':'Physician'}"
   ]
  }
 ],
 "metadata": {
  "kernelspec": {
   "display_name": "Python 3 (ipykernel)",
   "language": "python",
   "name": "python3"
  },
  "language_info": {
   "codemirror_mode": {
    "name": "ipython",
    "version": 3
   },
   "file_extension": ".py",
   "mimetype": "text/x-python",
   "name": "python",
   "nbconvert_exporter": "python",
   "pygments_lexer": "ipython3",
   "version": "3.12.9"
  }
 },
 "nbformat": 4,
 "nbformat_minor": 5
}
