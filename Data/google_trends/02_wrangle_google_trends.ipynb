{
 "cells": [
  {
   "cell_type": "code",
   "execution_count": 1,
   "id": "a3bb8655-1d2b-4987-85cb-782f35d9ee57",
   "metadata": {},
   "outputs": [],
   "source": [
    "import pandas as pd\n",
    "import numpy as np\n",
    "import matplotlib.pyplot as plot\n",
    "import seaborn as sns"
   ]
  },
  {
   "cell_type": "code",
   "execution_count": 2,
   "id": "49cd5731-286b-4fed-a746-0038d54a505b",
   "metadata": {},
   "outputs": [
    {
     "name": "stdout",
     "output_type": "stream",
     "text": [
      "['bra_trends.csv', 'chl_trends.csv', 'col_trends.csv', 'dom_trends.csv', 'ger_trends.csv', 'ita_trends.csv', 'mex_trends.csv', 'pan_trends.csv', 'ury_trends.csv', 'usa_trends.csv']\n"
     ]
    }
   ],
   "source": [
    "import glob\n",
    "\n",
    "# List all CSV files in the current directory\n",
    "csv_files = glob.glob(\"*.csv\")\n",
    "\n",
    "# Print the list of CSV files\n",
    "print(csv_files)\n"
   ]
  },
  {
   "cell_type": "code",
   "execution_count": 4,
   "id": "e5dbdc1f-2f20-4ef4-9989-5611dfa665ea",
   "metadata": {},
   "outputs": [
    {
     "data": {
      "text/html": [
       "<div>\n",
       "<style scoped>\n",
       "    .dataframe tbody tr th:only-of-type {\n",
       "        vertical-align: middle;\n",
       "    }\n",
       "\n",
       "    .dataframe tbody tr th {\n",
       "        vertical-align: top;\n",
       "    }\n",
       "\n",
       "    .dataframe thead th {\n",
       "        text-align: right;\n",
       "    }\n",
       "</style>\n",
       "<table border=\"1\" class=\"dataframe\">\n",
       "  <thead>\n",
       "    <tr style=\"text-align: right;\">\n",
       "      <th></th>\n",
       "      <th>Month</th>\n",
       "      <th>Virus: (Brazil)</th>\n",
       "      <th>Symptom: (Brazil)</th>\n",
       "      <th>Hospital: (Brazil)</th>\n",
       "      <th>Physician: (Brazil)</th>\n",
       "    </tr>\n",
       "  </thead>\n",
       "  <tbody>\n",
       "    <tr>\n",
       "      <th>0</th>\n",
       "      <td>2004-01</td>\n",
       "      <td>13</td>\n",
       "      <td>7</td>\n",
       "      <td>24</td>\n",
       "      <td>11</td>\n",
       "    </tr>\n",
       "    <tr>\n",
       "      <th>1</th>\n",
       "      <td>2004-02</td>\n",
       "      <td>16</td>\n",
       "      <td>8</td>\n",
       "      <td>24</td>\n",
       "      <td>9</td>\n",
       "    </tr>\n",
       "    <tr>\n",
       "      <th>2</th>\n",
       "      <td>2004-03</td>\n",
       "      <td>21</td>\n",
       "      <td>9</td>\n",
       "      <td>27</td>\n",
       "      <td>9</td>\n",
       "    </tr>\n",
       "    <tr>\n",
       "      <th>3</th>\n",
       "      <td>2004-04</td>\n",
       "      <td>18</td>\n",
       "      <td>9</td>\n",
       "      <td>25</td>\n",
       "      <td>9</td>\n",
       "    </tr>\n",
       "    <tr>\n",
       "      <th>4</th>\n",
       "      <td>2004-05</td>\n",
       "      <td>21</td>\n",
       "      <td>9</td>\n",
       "      <td>24</td>\n",
       "      <td>8</td>\n",
       "    </tr>\n",
       "  </tbody>\n",
       "</table>\n",
       "</div>"
      ],
      "text/plain": [
       "     Month  Virus: (Brazil)  Symptom: (Brazil)  Hospital: (Brazil)  \\\n",
       "0  2004-01               13                  7                  24   \n",
       "1  2004-02               16                  8                  24   \n",
       "2  2004-03               21                  9                  27   \n",
       "3  2004-04               18                  9                  25   \n",
       "4  2004-05               21                  9                  24   \n",
       "\n",
       "   Physician: (Brazil)  \n",
       "0                   11  \n",
       "1                    9  \n",
       "2                    9  \n",
       "3                    9  \n",
       "4                    8  "
      ]
     },
     "execution_count": 4,
     "metadata": {},
     "output_type": "execute_result"
    }
   ],
   "source": [
    "df_sample = pd.read_csv(csv_files[0], skiprows = 2)\n",
    "df_sample.head()"
   ]
  },
  {
   "cell_type": "code",
   "execution_count": 5,
   "id": "3a98cb61-8010-4180-9f78-cb8a77e43e38",
   "metadata": {},
   "outputs": [
    {
     "data": {
      "text/plain": [
       "Index(['Month', 'Virus: (Brazil)', 'Symptom: (Brazil)', 'Hospital: (Brazil)',\n",
       "       'Physician: (Brazil)'],\n",
       "      dtype='object')"
      ]
     },
     "execution_count": 5,
     "metadata": {},
     "output_type": "execute_result"
    }
   ],
   "source": [
    "df_sample.columns"
   ]
  },
  {
   "cell_type": "code",
   "execution_count": 8,
   "id": "f8374ba2-4f0c-45c4-9d52-79c5d272ecd7",
   "metadata": {},
   "outputs": [],
   "source": [
    "# Loop through each CSV file\n",
    "combined_df = pd.DataFrame()\n",
    "for csv_file in csv_files:\n",
    "    # Read the CSV file, skipping the first two lines and using the third line as the header\n",
    "    temp_df = pd.read_csv(csv_file, skiprows=2)\n",
    "\n",
    "    # Extract the country name from the parentheses in the first column name\n",
    "    country_name = temp_df.columns[1].split('(')[1].split(')')[0]\n",
    "\n",
    "    # Rename the columns to keep only the text before the parentheses and remove spaces\n",
    "    temp_df.columns = [col.split('(')[0].replace(' ', '') for col in temp_df.columns]\n",
    "\n",
    "    # Add the country name to the list\n",
    "    #country_names.append(country_name)\n",
    "\n",
    "    # Add a new column named \"country\" with the extracted country name\n",
    "    temp_df['country'] = country_name\n",
    "\n",
    "    # Append the temporary DataFrame to the combined DataFrame\n",
    "    combined_df = pd.concat([combined_df, temp_df], ignore_index=True)"
   ]
  },
  {
   "cell_type": "code",
   "execution_count": 10,
   "id": "cf51c901-cab5-4d44-b26a-dc671bf1a007",
   "metadata": {},
   "outputs": [],
   "source": [
    "combined_df.columns = ['date', 'g_virus', 'g_symptoms', 'g_hospital', 'g_physician', 'country']\n",
    "combined_df['date'] = pd.to_datetime(combined_df['date'])"
   ]
  },
  {
   "cell_type": "code",
   "execution_count": 14,
   "id": "cbb31fe9-926b-49eb-b486-4f1663902ed8",
   "metadata": {},
   "outputs": [],
   "source": [
    "combined_df.to_csv('../silver/google_trends.csv')"
   ]
  }
 ],
 "metadata": {
  "kernelspec": {
   "display_name": "Python 3 (ipykernel)",
   "language": "python",
   "name": "python3"
  },
  "language_info": {
   "codemirror_mode": {
    "name": "ipython",
    "version": 3
   },
   "file_extension": ".py",
   "mimetype": "text/x-python",
   "name": "python",
   "nbconvert_exporter": "python",
   "pygments_lexer": "ipython3",
   "version": "3.12.9"
  }
 },
 "nbformat": 4,
 "nbformat_minor": 5
}
