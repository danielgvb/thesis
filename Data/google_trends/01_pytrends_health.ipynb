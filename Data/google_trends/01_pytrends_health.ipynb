{
 "cells": [
  {
   "cell_type": "code",
   "execution_count": 1,
   "id": "7ad34def-cc3a-4e41-a077-8d5b14cd947f",
   "metadata": {},
   "outputs": [],
   "source": [
    "#import libraries\n",
    "from pytrends.request import TrendReq\n",
    "import pandas as pd\n",
    "from tqdm import tqdm\n",
    "import datetime as dt\n",
    "import time"
   ]
  },
  {
   "cell_type": "code",
   "execution_count": 15,
   "id": "868905c7-db41-4687-9d72-a50055cca5e6",
   "metadata": {},
   "outputs": [
    {
     "data": {
      "text/plain": [
       "[{'mid': '/g/11dd_vcl3r', 'title': 'The Good Doctor', 'type': 'Drama series'},\n",
       " {'mid': '/m/02906',\n",
       "  'title': 'Doctor Who',\n",
       "  'type': 'British television series'},\n",
       " {'mid': '/g/11fd6dj73b', 'title': 'Doctor Sleep', 'type': '2019 film'},\n",
       " {'mid': '/m/05t4q', 'title': 'Physician', 'type': 'Profession'},\n",
       " {'mid': '/g/113p88v54', 'title': 'Rug Doctor', 'type': 'Topic'}]"
      ]
     },
     "execution_count": 15,
     "metadata": {},
     "output_type": "execute_result"
    }
   ],
   "source": [
    "pytrend = TrendReq(hl='en-GB', tz=360)\n",
    "pytrend.suggestions('Doctor')"
   ]
  },
  {
   "cell_type": "code",
   "execution_count": 20,
   "id": "2bade3ed-cfd8-4497-8d99-26cc7e97fe5f",
   "metadata": {},
   "outputs": [
    {
     "ename": "TooManyRequestsError",
     "evalue": "The request failed: Google returned a response with code 429",
     "output_type": "error",
     "traceback": [
      "\u001b[1;31m---------------------------------------------------------------------------\u001b[0m",
      "\u001b[1;31mTooManyRequestsError\u001b[0m                      Traceback (most recent call last)",
      "Cell \u001b[1;32mIn[20], line 24\u001b[0m\n\u001b[0;32m     21\u001b[0m pytrends\u001b[38;5;241m.\u001b[39mbuild_payload([term], cat\u001b[38;5;241m=\u001b[39m\u001b[38;5;241m0\u001b[39m, timeframe\u001b[38;5;241m=\u001b[39m\u001b[38;5;124m'\u001b[39m\u001b[38;5;124m2013-01-01 2023-12-31\u001b[39m\u001b[38;5;124m'\u001b[39m, geo\u001b[38;5;241m=\u001b[39m\u001b[38;5;124m'\u001b[39m\u001b[38;5;124mUS\u001b[39m\u001b[38;5;124m'\u001b[39m, gprop\u001b[38;5;241m=\u001b[39m\u001b[38;5;124m'\u001b[39m\u001b[38;5;124m'\u001b[39m) \n\u001b[0;32m     23\u001b[0m \u001b[38;5;66;03m# Get interest over time data\u001b[39;00m\n\u001b[1;32m---> 24\u001b[0m df \u001b[38;5;241m=\u001b[39m pytrends\u001b[38;5;241m.\u001b[39minterest_over_time()\n\u001b[0;32m     26\u001b[0m \u001b[38;5;66;03m# If available, remove the 'isPartial' column\u001b[39;00m\n\u001b[0;32m     27\u001b[0m \u001b[38;5;28;01mif\u001b[39;00m \u001b[38;5;124m'\u001b[39m\u001b[38;5;124misPartial\u001b[39m\u001b[38;5;124m'\u001b[39m \u001b[38;5;129;01min\u001b[39;00m df\u001b[38;5;241m.\u001b[39mcolumns:\n",
      "File \u001b[1;32m~\\anaconda3\\envs\\thesis\\Lib\\site-packages\\pytrends\\request.py:232\u001b[0m, in \u001b[0;36mTrendReq.interest_over_time\u001b[1;34m(self)\u001b[0m\n\u001b[0;32m    224\u001b[0m over_time_payload \u001b[38;5;241m=\u001b[39m {\n\u001b[0;32m    225\u001b[0m     \u001b[38;5;66;03m# convert to string as requests will mangle\u001b[39;00m\n\u001b[0;32m    226\u001b[0m     \u001b[38;5;124m'\u001b[39m\u001b[38;5;124mreq\u001b[39m\u001b[38;5;124m'\u001b[39m: json\u001b[38;5;241m.\u001b[39mdumps(\u001b[38;5;28mself\u001b[39m\u001b[38;5;241m.\u001b[39minterest_over_time_widget[\u001b[38;5;124m'\u001b[39m\u001b[38;5;124mrequest\u001b[39m\u001b[38;5;124m'\u001b[39m]),\n\u001b[0;32m    227\u001b[0m     \u001b[38;5;124m'\u001b[39m\u001b[38;5;124mtoken\u001b[39m\u001b[38;5;124m'\u001b[39m: \u001b[38;5;28mself\u001b[39m\u001b[38;5;241m.\u001b[39minterest_over_time_widget[\u001b[38;5;124m'\u001b[39m\u001b[38;5;124mtoken\u001b[39m\u001b[38;5;124m'\u001b[39m],\n\u001b[0;32m    228\u001b[0m     \u001b[38;5;124m'\u001b[39m\u001b[38;5;124mtz\u001b[39m\u001b[38;5;124m'\u001b[39m: \u001b[38;5;28mself\u001b[39m\u001b[38;5;241m.\u001b[39mtz\n\u001b[0;32m    229\u001b[0m }\n\u001b[0;32m    231\u001b[0m \u001b[38;5;66;03m# make the request and parse the returned json\u001b[39;00m\n\u001b[1;32m--> 232\u001b[0m req_json \u001b[38;5;241m=\u001b[39m \u001b[38;5;28mself\u001b[39m\u001b[38;5;241m.\u001b[39m_get_data(\n\u001b[0;32m    233\u001b[0m     url\u001b[38;5;241m=\u001b[39mTrendReq\u001b[38;5;241m.\u001b[39mINTEREST_OVER_TIME_URL,\n\u001b[0;32m    234\u001b[0m     method\u001b[38;5;241m=\u001b[39mTrendReq\u001b[38;5;241m.\u001b[39mGET_METHOD,\n\u001b[0;32m    235\u001b[0m     trim_chars\u001b[38;5;241m=\u001b[39m\u001b[38;5;241m5\u001b[39m,\n\u001b[0;32m    236\u001b[0m     params\u001b[38;5;241m=\u001b[39mover_time_payload,\n\u001b[0;32m    237\u001b[0m )\n\u001b[0;32m    239\u001b[0m df \u001b[38;5;241m=\u001b[39m pd\u001b[38;5;241m.\u001b[39mDataFrame(req_json[\u001b[38;5;124m'\u001b[39m\u001b[38;5;124mdefault\u001b[39m\u001b[38;5;124m'\u001b[39m][\u001b[38;5;124m'\u001b[39m\u001b[38;5;124mtimelineData\u001b[39m\u001b[38;5;124m'\u001b[39m])\n\u001b[0;32m    240\u001b[0m \u001b[38;5;28;01mif\u001b[39;00m (df\u001b[38;5;241m.\u001b[39mempty):\n",
      "File \u001b[1;32m~\\anaconda3\\envs\\thesis\\Lib\\site-packages\\pytrends\\request.py:159\u001b[0m, in \u001b[0;36mTrendReq._get_data\u001b[1;34m(self, url, method, trim_chars, **kwargs)\u001b[0m\n\u001b[0;32m    157\u001b[0m \u001b[38;5;28;01melse\u001b[39;00m:\n\u001b[0;32m    158\u001b[0m     \u001b[38;5;28;01mif\u001b[39;00m response\u001b[38;5;241m.\u001b[39mstatus_code \u001b[38;5;241m==\u001b[39m status_codes\u001b[38;5;241m.\u001b[39mcodes\u001b[38;5;241m.\u001b[39mtoo_many_requests:\n\u001b[1;32m--> 159\u001b[0m         \u001b[38;5;28;01mraise\u001b[39;00m exceptions\u001b[38;5;241m.\u001b[39mTooManyRequestsError\u001b[38;5;241m.\u001b[39mfrom_response(response)\n\u001b[0;32m    160\u001b[0m     \u001b[38;5;28;01mraise\u001b[39;00m exceptions\u001b[38;5;241m.\u001b[39mResponseError\u001b[38;5;241m.\u001b[39mfrom_response(response)\n",
      "\u001b[1;31mTooManyRequestsError\u001b[0m: The request failed: Google returned a response with code 429"
     ]
    }
   ],
   "source": [
    "# Define your dictionary mapping codes to search terms\n",
    "cod_dict = {\n",
    "    '/m/0g9pc': 'Virus',\n",
    "    '/m/01b_06': 'Symptom',\n",
    "    '/m/0kt51': 'Health', \n",
    "    '/m/0hpnr': 'Hospital',\n",
    "    '/m/05t4q': 'Physician'\n",
    "}\n",
    "\n",
    "# Initialize pytrends\n",
    "pytrends = TrendReq(hl='en-US', tz=360)\n",
    "\n",
    "# Prepare an empty DataFrame to store all results\n",
    "df_total = pd.DataFrame()\n",
    "\n",
    "# Loop through each term in the dictionary\n",
    "for code, term in cod_dict.items():\n",
    "    # Build the payload. Changed timeframe to '2013-01-01 2023-12-31'\n",
    "    # This represents a specific date range instead of 'today 10-y'\n",
    "    # Google Trends might have issues with the dynamic 'today 10-y' for certain terms.\n",
    "    pytrends.build_payload([term], cat=0, timeframe='2013-01-01 2023-12-31', geo='US', gprop='') \n",
    "    \n",
    "    # Get interest over time data\n",
    "    df = pytrends.interest_over_time()\n",
    "    \n",
    "    # If available, remove the 'isPartial' column\n",
    "    if 'isPartial' in df.columns:\n",
    "        df = df.drop(columns=['isPartial'])\n",
    "    \n",
    "    # Rename the column to the term name (it should already be named that, but to be explicit)\n",
    "    df = df.rename(columns={term: term})\n",
    "    \n",
    "    # Merge data on the date index\n",
    "    if df_total.empty:\n",
    "        df_total = df\n",
    "    else:\n",
    "        df_total = df_total.join(df, how='outer')\n",
    "\n",
    "# Reset the index so 'date' becomes a column\n",
    "df_total = df_total.reset_index()\n",
    "df_total.head()"
   ]
  },
  {
   "cell_type": "code",
   "execution_count": 17,
   "id": "58234408-482e-4338-82f1-4a7649371f0c",
   "metadata": {},
   "outputs": [],
   "source": [
    "cod_dict = {'/m/0g9pc':'Virus',\n",
    "            '/m/01b_06':'Symptom',\n",
    "            '/m/0kt51':'Health', \n",
    "            '/m/0hpnr':'Hospital',\n",
    "            '/m/05t4q':'Physician'}\n",
    "\n",
    "\n",
    "country_dict = { \"BR\": \"Brazil\", \"CL\":\"Chile\",\"MX\":\"Mexico\",\n",
    "                \"DO\":\"Dominican Republic\",\"PA\":\"Panama\",\n",
    "                \"UY\":\"Uruguay\", \"CO\":\"Colombia\" }                "
   ]
  },
  {
   "cell_type": "code",
   "execution_count": 19,
   "id": "b617d801-28aa-41ea-a2ac-70373baa84b1",
   "metadata": {},
   "outputs": [
    {
     "ename": "TooManyRequestsError",
     "evalue": "The request failed: Google returned a response with code 429",
     "output_type": "error",
     "traceback": [
      "\u001b[1;31m---------------------------------------------------------------------------\u001b[0m",
      "\u001b[1;31mTooManyRequestsError\u001b[0m                      Traceback (most recent call last)",
      "Cell \u001b[1;32mIn[19], line 6\u001b[0m\n\u001b[0;32m      3\u001b[0m df \u001b[38;5;241m=\u001b[39m pd\u001b[38;5;241m.\u001b[39mDataFrame()\n\u001b[0;32m      5\u001b[0m pytrend\u001b[38;5;241m.\u001b[39mbuild_payload( kw_list\u001b[38;5;241m=\u001b[39mcods, timeframe\u001b[38;5;241m=\u001b[39m \u001b[38;5;124m'\u001b[39m\u001b[38;5;124m2020-01-01 2024-12-31\u001b[39m\u001b[38;5;124m'\u001b[39m, geo\u001b[38;5;241m=\u001b[39m paises[\u001b[38;5;241m0\u001b[39m])\n\u001b[1;32m----> 6\u001b[0m data \u001b[38;5;241m=\u001b[39m pytrend\u001b[38;5;241m.\u001b[39minterest_over_time()\n\u001b[0;32m      7\u001b[0m data\u001b[38;5;241m.\u001b[39mdrop(columns\u001b[38;5;241m=\u001b[39m [\u001b[38;5;124m'\u001b[39m\u001b[38;5;124misPartial\u001b[39m\u001b[38;5;124m'\u001b[39m], inplace  \u001b[38;5;241m=\u001b[39m \u001b[38;5;28;01mTrue\u001b[39;00m)\n",
      "File \u001b[1;32m~\\anaconda3\\envs\\thesis\\Lib\\site-packages\\pytrends\\request.py:232\u001b[0m, in \u001b[0;36mTrendReq.interest_over_time\u001b[1;34m(self)\u001b[0m\n\u001b[0;32m    224\u001b[0m over_time_payload \u001b[38;5;241m=\u001b[39m {\n\u001b[0;32m    225\u001b[0m     \u001b[38;5;66;03m# convert to string as requests will mangle\u001b[39;00m\n\u001b[0;32m    226\u001b[0m     \u001b[38;5;124m'\u001b[39m\u001b[38;5;124mreq\u001b[39m\u001b[38;5;124m'\u001b[39m: json\u001b[38;5;241m.\u001b[39mdumps(\u001b[38;5;28mself\u001b[39m\u001b[38;5;241m.\u001b[39minterest_over_time_widget[\u001b[38;5;124m'\u001b[39m\u001b[38;5;124mrequest\u001b[39m\u001b[38;5;124m'\u001b[39m]),\n\u001b[0;32m    227\u001b[0m     \u001b[38;5;124m'\u001b[39m\u001b[38;5;124mtoken\u001b[39m\u001b[38;5;124m'\u001b[39m: \u001b[38;5;28mself\u001b[39m\u001b[38;5;241m.\u001b[39minterest_over_time_widget[\u001b[38;5;124m'\u001b[39m\u001b[38;5;124mtoken\u001b[39m\u001b[38;5;124m'\u001b[39m],\n\u001b[0;32m    228\u001b[0m     \u001b[38;5;124m'\u001b[39m\u001b[38;5;124mtz\u001b[39m\u001b[38;5;124m'\u001b[39m: \u001b[38;5;28mself\u001b[39m\u001b[38;5;241m.\u001b[39mtz\n\u001b[0;32m    229\u001b[0m }\n\u001b[0;32m    231\u001b[0m \u001b[38;5;66;03m# make the request and parse the returned json\u001b[39;00m\n\u001b[1;32m--> 232\u001b[0m req_json \u001b[38;5;241m=\u001b[39m \u001b[38;5;28mself\u001b[39m\u001b[38;5;241m.\u001b[39m_get_data(\n\u001b[0;32m    233\u001b[0m     url\u001b[38;5;241m=\u001b[39mTrendReq\u001b[38;5;241m.\u001b[39mINTEREST_OVER_TIME_URL,\n\u001b[0;32m    234\u001b[0m     method\u001b[38;5;241m=\u001b[39mTrendReq\u001b[38;5;241m.\u001b[39mGET_METHOD,\n\u001b[0;32m    235\u001b[0m     trim_chars\u001b[38;5;241m=\u001b[39m\u001b[38;5;241m5\u001b[39m,\n\u001b[0;32m    236\u001b[0m     params\u001b[38;5;241m=\u001b[39mover_time_payload,\n\u001b[0;32m    237\u001b[0m )\n\u001b[0;32m    239\u001b[0m df \u001b[38;5;241m=\u001b[39m pd\u001b[38;5;241m.\u001b[39mDataFrame(req_json[\u001b[38;5;124m'\u001b[39m\u001b[38;5;124mdefault\u001b[39m\u001b[38;5;124m'\u001b[39m][\u001b[38;5;124m'\u001b[39m\u001b[38;5;124mtimelineData\u001b[39m\u001b[38;5;124m'\u001b[39m])\n\u001b[0;32m    240\u001b[0m \u001b[38;5;28;01mif\u001b[39;00m (df\u001b[38;5;241m.\u001b[39mempty):\n",
      "File \u001b[1;32m~\\anaconda3\\envs\\thesis\\Lib\\site-packages\\pytrends\\request.py:159\u001b[0m, in \u001b[0;36mTrendReq._get_data\u001b[1;34m(self, url, method, trim_chars, **kwargs)\u001b[0m\n\u001b[0;32m    157\u001b[0m \u001b[38;5;28;01melse\u001b[39;00m:\n\u001b[0;32m    158\u001b[0m     \u001b[38;5;28;01mif\u001b[39;00m response\u001b[38;5;241m.\u001b[39mstatus_code \u001b[38;5;241m==\u001b[39m status_codes\u001b[38;5;241m.\u001b[39mcodes\u001b[38;5;241m.\u001b[39mtoo_many_requests:\n\u001b[1;32m--> 159\u001b[0m         \u001b[38;5;28;01mraise\u001b[39;00m exceptions\u001b[38;5;241m.\u001b[39mTooManyRequestsError\u001b[38;5;241m.\u001b[39mfrom_response(response)\n\u001b[0;32m    160\u001b[0m     \u001b[38;5;28;01mraise\u001b[39;00m exceptions\u001b[38;5;241m.\u001b[39mResponseError\u001b[38;5;241m.\u001b[39mfrom_response(response)\n",
      "\u001b[1;31mTooManyRequestsError\u001b[0m: The request failed: Google returned a response with code 429"
     ]
    }
   ],
   "source": [
    "paises = list(country_dict.keys())\n",
    "cods = list(cod_dict.keys())\n",
    "df = pd.DataFrame()\n",
    "\n",
    "pytrend.build_payload( kw_list=cods, timeframe= '2020-01-01 2024-12-31', geo= paises[0])\n",
    "data = pytrend.interest_over_time()\n",
    "data.drop(columns= ['isPartial'], inplace  = True)"
   ]
  }
 ],
 "metadata": {
  "kernelspec": {
   "display_name": "Python 3 (ipykernel)",
   "language": "python",
   "name": "python3"
  },
  "language_info": {
   "codemirror_mode": {
    "name": "ipython",
    "version": 3
   },
   "file_extension": ".py",
   "mimetype": "text/x-python",
   "name": "python",
   "nbconvert_exporter": "python",
   "pygments_lexer": "ipython3",
   "version": "3.12.9"
  }
 },
 "nbformat": 4,
 "nbformat_minor": 5
}
