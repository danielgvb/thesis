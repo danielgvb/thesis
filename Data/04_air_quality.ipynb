{
 "cells": [
  {
   "cell_type": "code",
   "execution_count": 1,
   "id": "537ae65d-4af5-44f5-9788-31f9d32c466c",
   "metadata": {},
   "outputs": [],
   "source": [
    "import pandas as pd\n",
    "import numpy as np\n",
    "import os\n",
    "import glob\n",
    "from tqdm import tqdm"
   ]
  },
  {
   "cell_type": "code",
   "execution_count": 2,
   "id": "3b146350-b9cb-4030-aab3-bcb819c6fec4",
   "metadata": {},
   "outputs": [
    {
     "data": {
      "text/plain": [
       "['air_quality\\\\download.ipynb',\n",
       " 'air_quality\\\\waqi-covid-2022Q1.csv',\n",
       " 'air_quality\\\\waqi-covid19-airqualitydata-2015H1.csv',\n",
       " 'air_quality\\\\waqi-covid19-airqualitydata-2016H1.csv',\n",
       " 'air_quality\\\\waqi-covid19-airqualitydata-2017H1.csv',\n",
       " 'air_quality\\\\waqi-covid19-airqualitydata-2018H1.csv',\n",
       " 'air_quality\\\\waqi-covid19-airqualitydata-2019Q1.csv',\n",
       " 'air_quality\\\\waqi-covid19-airqualitydata-2019Q2.csv',\n",
       " 'air_quality\\\\waqi-covid19-airqualitydata-2019Q3.csv',\n",
       " 'air_quality\\\\waqi-covid19-airqualitydata-2019Q4.csv',\n",
       " 'air_quality\\\\waqi-covid19-airqualitydata-2020Q1.csv',\n",
       " 'air_quality\\\\waqi-covid19-airqualitydata-2020Q2.csv',\n",
       " 'air_quality\\\\waqi-covid19-airqualitydata-2020Q3.csv',\n",
       " 'air_quality\\\\waqi-covid19-airqualitydata-2020Q4.csv',\n",
       " 'air_quality\\\\waqi-covid19-airqualitydata-2021Q1.csv',\n",
       " 'air_quality\\\\waqi-covid19-airqualitydata-2021Q2.csv',\n",
       " 'air_quality\\\\waqi-covid19-airqualitydata-2021Q3.csv',\n",
       " 'air_quality\\\\waqi-covid19-airqualitydata-2021Q4.csv',\n",
       " 'air_quality\\\\waqi-covid19-airqualitydata-2022Q2.csv',\n",
       " 'air_quality\\\\waqi-covid19-airqualitydata-2022Q3.csv',\n",
       " 'air_quality\\\\waqi-covid19-airqualitydata-2022Q4.csv',\n",
       " 'air_quality\\\\waqi-covid19-airqualitydata-2023Q1.csv',\n",
       " 'air_quality\\\\waqi-covid19-airqualitydata-2023Q2.csv',\n",
       " 'air_quality\\\\waqi-covid19-airqualitydata-2023Q3.csv',\n",
       " 'air_quality\\\\waqi-covid19-airqualitydata-2023Q4.csv']"
      ]
     },
     "execution_count": 2,
     "metadata": {},
     "output_type": "execute_result"
    }
   ],
   "source": [
    "# read files\n",
    "folder_path = \"air_quality\"  # Adjust this to your folder path\n",
    "\n",
    "air_files = [file_path for file_path in glob.glob(os.path.join(folder_path, \"*\")) if os.path.isfile(file_path)]\n",
    "air_files"
   ]
  },
  {
   "cell_type": "code",
   "execution_count": 3,
   "id": "adc83495",
   "metadata": {},
   "outputs": [
    {
     "data": {
      "text/plain": [
       "['air_quality\\\\waqi-covid-2022Q1.csv',\n",
       " 'air_quality\\\\waqi-covid19-airqualitydata-2015H1.csv',\n",
       " 'air_quality\\\\waqi-covid19-airqualitydata-2016H1.csv',\n",
       " 'air_quality\\\\waqi-covid19-airqualitydata-2017H1.csv',\n",
       " 'air_quality\\\\waqi-covid19-airqualitydata-2018H1.csv',\n",
       " 'air_quality\\\\waqi-covid19-airqualitydata-2019Q1.csv',\n",
       " 'air_quality\\\\waqi-covid19-airqualitydata-2019Q2.csv',\n",
       " 'air_quality\\\\waqi-covid19-airqualitydata-2019Q3.csv',\n",
       " 'air_quality\\\\waqi-covid19-airqualitydata-2019Q4.csv',\n",
       " 'air_quality\\\\waqi-covid19-airqualitydata-2020Q1.csv',\n",
       " 'air_quality\\\\waqi-covid19-airqualitydata-2020Q2.csv',\n",
       " 'air_quality\\\\waqi-covid19-airqualitydata-2020Q3.csv',\n",
       " 'air_quality\\\\waqi-covid19-airqualitydata-2020Q4.csv',\n",
       " 'air_quality\\\\waqi-covid19-airqualitydata-2021Q1.csv',\n",
       " 'air_quality\\\\waqi-covid19-airqualitydata-2021Q2.csv',\n",
       " 'air_quality\\\\waqi-covid19-airqualitydata-2021Q3.csv',\n",
       " 'air_quality\\\\waqi-covid19-airqualitydata-2021Q4.csv',\n",
       " 'air_quality\\\\waqi-covid19-airqualitydata-2022Q2.csv',\n",
       " 'air_quality\\\\waqi-covid19-airqualitydata-2022Q3.csv',\n",
       " 'air_quality\\\\waqi-covid19-airqualitydata-2022Q4.csv',\n",
       " 'air_quality\\\\waqi-covid19-airqualitydata-2023Q1.csv',\n",
       " 'air_quality\\\\waqi-covid19-airqualitydata-2023Q2.csv',\n",
       " 'air_quality\\\\waqi-covid19-airqualitydata-2023Q3.csv',\n",
       " 'air_quality\\\\waqi-covid19-airqualitydata-2023Q4.csv']"
      ]
     },
     "execution_count": 3,
     "metadata": {},
     "output_type": "execute_result"
    }
   ],
   "source": [
    "csv_files = [file for file in air_files if file.endswith('.csv')]\n",
    "csv_files"
   ]
  },
  {
   "cell_type": "code",
   "execution_count": 4,
   "id": "a819ab0c-6c7e-479a-94a9-c98a6b65abf9",
   "metadata": {},
   "outputs": [
    {
     "name": "stderr",
     "output_type": "stream",
     "text": [
      "100%|██████████| 24/24 [00:13<00:00,  1.80it/s]\n"
     ]
    }
   ],
   "source": [
    "dataframes = []\n",
    "countries_keep = ['BR', 'CL', 'CO', 'MX', 'DE', 'US', 'IT']\n",
    "vars_keep = ['pm25', 'humidity']\n",
    "for file in tqdm(csv_files):\n",
    "    try:\n",
    "        df_temp = pd.read_csv(file, skiprows=4)\n",
    "        df_temp = df_temp[df_temp['Country'].isin(countries_keep)]\n",
    "        #df_temp = df_temp[df_temp['Specie'].isin(vars_keep)]\n",
    "        df_temp['Date'] = pd.to_datetime(df_temp['Date'])\n",
    "        df_temp_g = df_temp.groupby(['Date', 'Country', 'Specie'])[['median']].mean().reset_index()\n",
    "        dataframes.append(df_temp_g)\n",
    "    except Exception as e:\n",
    "        print(f\"Error reading {file}: {e}\")"
   ]
  },
  {
   "cell_type": "code",
   "execution_count": 5,
   "id": "c2448d0d-587f-4c14-bf9b-317125042f90",
   "metadata": {},
   "outputs": [],
   "source": [
    "# Concatenate all DataFrames into a single DataFrame\n",
    "df = pd.concat(dataframes, ignore_index=True)"
   ]
  },
  {
   "cell_type": "code",
   "execution_count": 6,
   "id": "1e62fd86-b096-416c-ac6b-c37fced73338",
   "metadata": {},
   "outputs": [
    {
     "name": "stdout",
     "output_type": "stream",
     "text": [
      "<class 'pandas.core.frame.DataFrame'>\n",
      "RangeIndex: 191553 entries, 0 to 191552\n",
      "Data columns (total 4 columns):\n",
      " #   Column   Non-Null Count   Dtype         \n",
      "---  ------   --------------   -----         \n",
      " 0   Date     191553 non-null  datetime64[ns]\n",
      " 1   Country  191553 non-null  object        \n",
      " 2   Specie   191553 non-null  object        \n",
      " 3   median   191553 non-null  float64       \n",
      "dtypes: datetime64[ns](1), float64(1), object(2)\n",
      "memory usage: 5.8+ MB\n"
     ]
    }
   ],
   "source": [
    "df.info()"
   ]
  },
  {
   "cell_type": "code",
   "execution_count": 7,
   "id": "e8468c0a-03e8-443f-8e5e-0df4de366744",
   "metadata": {},
   "outputs": [
    {
     "data": {
      "text/html": [
       "<div>\n",
       "<style scoped>\n",
       "    .dataframe tbody tr th:only-of-type {\n",
       "        vertical-align: middle;\n",
       "    }\n",
       "\n",
       "    .dataframe tbody tr th {\n",
       "        vertical-align: top;\n",
       "    }\n",
       "\n",
       "    .dataframe thead th {\n",
       "        text-align: right;\n",
       "    }\n",
       "</style>\n",
       "<table border=\"1\" class=\"dataframe\">\n",
       "  <thead>\n",
       "    <tr style=\"text-align: right;\">\n",
       "      <th></th>\n",
       "      <th>Date</th>\n",
       "      <th>Country</th>\n",
       "      <th>Specie</th>\n",
       "      <th>median</th>\n",
       "    </tr>\n",
       "  </thead>\n",
       "  <tbody>\n",
       "    <tr>\n",
       "      <th>3543</th>\n",
       "      <td>2014-12-29</td>\n",
       "      <td>IT</td>\n",
       "      <td>no2</td>\n",
       "      <td>32.583333</td>\n",
       "    </tr>\n",
       "    <tr>\n",
       "      <th>3531</th>\n",
       "      <td>2014-12-29</td>\n",
       "      <td>CO</td>\n",
       "      <td>o3</td>\n",
       "      <td>4.200000</td>\n",
       "    </tr>\n",
       "    <tr>\n",
       "      <th>3532</th>\n",
       "      <td>2014-12-29</td>\n",
       "      <td>CO</td>\n",
       "      <td>pm10</td>\n",
       "      <td>29.000000</td>\n",
       "    </tr>\n",
       "    <tr>\n",
       "      <th>3533</th>\n",
       "      <td>2014-12-29</td>\n",
       "      <td>CO</td>\n",
       "      <td>pm25</td>\n",
       "      <td>50.000000</td>\n",
       "    </tr>\n",
       "    <tr>\n",
       "      <th>3534</th>\n",
       "      <td>2014-12-29</td>\n",
       "      <td>CO</td>\n",
       "      <td>so2</td>\n",
       "      <td>0.800000</td>\n",
       "    </tr>\n",
       "    <tr>\n",
       "      <th>...</th>\n",
       "      <td>...</td>\n",
       "      <td>...</td>\n",
       "      <td>...</td>\n",
       "      <td>...</td>\n",
       "    </tr>\n",
       "    <tr>\n",
       "      <th>191523</th>\n",
       "      <td>2023-12-31</td>\n",
       "      <td>CO</td>\n",
       "      <td>precipitation</td>\n",
       "      <td>0.500000</td>\n",
       "    </tr>\n",
       "    <tr>\n",
       "      <th>191524</th>\n",
       "      <td>2023-12-31</td>\n",
       "      <td>CO</td>\n",
       "      <td>pressure</td>\n",
       "      <td>1027.750000</td>\n",
       "    </tr>\n",
       "    <tr>\n",
       "      <th>191525</th>\n",
       "      <td>2023-12-31</td>\n",
       "      <td>CO</td>\n",
       "      <td>so2</td>\n",
       "      <td>0.500000</td>\n",
       "    </tr>\n",
       "    <tr>\n",
       "      <th>191514</th>\n",
       "      <td>2023-12-31</td>\n",
       "      <td>BR</td>\n",
       "      <td>wind-gust</td>\n",
       "      <td>11.850000</td>\n",
       "    </tr>\n",
       "    <tr>\n",
       "      <th>191552</th>\n",
       "      <td>2023-12-31</td>\n",
       "      <td>MX</td>\n",
       "      <td>wind-speed</td>\n",
       "      <td>2.209091</td>\n",
       "    </tr>\n",
       "  </tbody>\n",
       "</table>\n",
       "<p>191553 rows × 4 columns</p>\n",
       "</div>"
      ],
      "text/plain": [
       "             Date Country         Specie       median\n",
       "3543   2014-12-29      IT            no2    32.583333\n",
       "3531   2014-12-29      CO             o3     4.200000\n",
       "3532   2014-12-29      CO           pm10    29.000000\n",
       "3533   2014-12-29      CO           pm25    50.000000\n",
       "3534   2014-12-29      CO            so2     0.800000\n",
       "...           ...     ...            ...          ...\n",
       "191523 2023-12-31      CO  precipitation     0.500000\n",
       "191524 2023-12-31      CO       pressure  1027.750000\n",
       "191525 2023-12-31      CO            so2     0.500000\n",
       "191514 2023-12-31      BR      wind-gust    11.850000\n",
       "191552 2023-12-31      MX     wind-speed     2.209091\n",
       "\n",
       "[191553 rows x 4 columns]"
      ]
     },
     "execution_count": 7,
     "metadata": {},
     "output_type": "execute_result"
    }
   ],
   "source": [
    "df.sort_values(by='Date')"
   ]
  },
  {
   "cell_type": "code",
   "execution_count": 8,
   "id": "67f52642-720f-46c1-89ff-75aee2c62bbb",
   "metadata": {},
   "outputs": [],
   "source": [
    "df.to_csv('silver/atmosferic_data.csv', index=False)"
   ]
  }
 ],
 "metadata": {
  "kernelspec": {
   "display_name": "thesis",
   "language": "python",
   "name": "python3"
  },
  "language_info": {
   "codemirror_mode": {
    "name": "ipython",
    "version": 3
   },
   "file_extension": ".py",
   "mimetype": "text/x-python",
   "name": "python",
   "nbconvert_exporter": "python",
   "pygments_lexer": "ipython3",
   "version": "3.12.9"
  }
 },
 "nbformat": 4,
 "nbformat_minor": 5
}
